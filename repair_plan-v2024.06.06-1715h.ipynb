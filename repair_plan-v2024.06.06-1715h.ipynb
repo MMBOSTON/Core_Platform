{
 "cells": [
  {
   "cell_type": "markdown",
   "metadata": {},
   "source": [
    "# Plan to preserve what works, fix what doesn't, and get good working master.\n",
    "\n",
    "Snapshot (commit) current codebase to preserve FASTAPI parts that are working.\n",
    "PROBLEMS: \n",
    "    Database schema / recipe layer is out of sync with the Python DB access FastAPI routes and their correspoding functions .  \n",
    "\n",
    "    Python objects do not reflect the database table and column names. \n",
    "\n",
    "##########################################\n",
    "\n",
    "GOAL for this commit:\n",
    "    - create a snapshot of what works (to roll back here if changes FUBAR everything)\n",
    "\n",
    "Create new branch called \"fix_PyDB_layer\"\n",
    "Fix dbmap_bad parts, then commit repaired version as \"goodmaster\"\n",
    "\n",
    "FastAPI routes (endpoints) infrastructure\n",
    "\n",
    "Snowfakery recipe (YAML schema used for generating SQL data objects, NOT entire database)\n",
    "Snowfakery SQL code generator (generates the actual database schema AND the SQL instance data)\n",
    "\n",
    "\n",
    "database schema (SQL schema)  \n",
    "    SQLAlchemy Object-Relational Mapper (maps Python objects to SQL tables)\n",
    "\n",
    "Python functions that map data from the database to the FastAPI endpoints\n",
    "\n",
    "\n"
   ]
  },
  {
   "cell_type": "markdown",
   "metadata": {},
   "source": [
    "If you haven't committed your changes to the master branch yet, you should do so before creating a new branch. Here are the steps:\n",
    "\n"
   ]
  },
  {
   "cell_type": "code",
   "execution_count": null,
   "metadata": {},
   "outputs": [],
   "source": [
    "# Ensure you are on the 'master' branch\n",
    "git checkout master\n",
    "\n",
    "# Add all changes\n",
    "git add .\n",
    "\n",
    "# Commit the changes\n",
    "git commit -m \"Snapshot before fixing Python-DB synchronization problems\"\n",
    "\n",
    "# Create a new branch called 'fix_PyDB_layer' from 'master'\n",
    "git checkout -b fix_PyDB_layer"
   ]
  },
  {
   "cell_type": "markdown",
   "metadata": {},
   "source": [
    "\n",
    "\n",
    "After this, you can start fixing the parts as per your plan. Once you're done, you can commit those changes with the message \"goodmaster\":\n",
    "\n"
   ]
  },
  {
   "cell_type": "code",
   "execution_count": null,
   "metadata": {},
   "outputs": [],
   "source": [
    "# Add all changes\n",
    "git add .\n",
    "\n",
    "# Commit the repaired version as 'goodmaster'\n",
    "git commit -m \"goodmaster: Fixed Python-DB synchronization problems\""
   ]
  },
  {
   "cell_type": "markdown",
   "metadata": {},
   "source": [
    "\n",
    "\n",
    "Remember to replace the commit messages with something that accurately describes the changes you made."
   ]
  }
 ],
 "metadata": {
  "language_info": {
   "name": "python"
  }
 },
 "nbformat": 4,
 "nbformat_minor": 2
}
